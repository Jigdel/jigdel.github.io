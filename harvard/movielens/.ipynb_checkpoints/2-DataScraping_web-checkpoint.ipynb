{
 "metadata": {
  "name": "",
  "signature": "sha256:de504bfea095bebc1fc67fd926c9c81c83c893c24b57c1d68bf975d052fe8edb"
 },
 "nbformat": 3,
 "nbformat_minor": 0,
 "worksheets": [
  {
   "cells": [
    {
     "cell_type": "markdown",
     "metadata": {},
     "source": [
      "#Scraping with Python\n",
      "- Scraping is all about HTML tags\n",
      "- Bad news: need to learn about tags and websites can be ugly\n",
      "- Good news: some browsers help, look for 'inspect element' \n",
      "    - Ctrl+shift+I in Chrome\n",
      "    - Cmd+Option+I in Safari\n",
      "- Useful libraries:\n",
      "    - urllib, beautifulsoup, pattern, soupy, LXML, ..."
     ]
    },
    {
     "cell_type": "code",
     "collapsed": false,
     "input": [
      "# special IPython command to prepare the notebook for matplotlib\n",
      "%matplotlib inline \n",
      "\n",
      "## all imports\n",
      "from IPython.display import HTML\n",
      "import numpy as np\n",
      "import urllib #import urllib2\n",
      "import bs4 #this is beautiful soup\n",
      "import time\n",
      "import operator\n",
      "import socket\n",
      "import pickle #import cPickle\n",
      "import re # regular expressions\n",
      "\n",
      "from pandas import Series\n",
      "import pandas as pd\n",
      "from pandas import DataFrame\n",
      "\n",
      "import matplotlib\n",
      "import matplotlib.pyplot as plt\n",
      "%matplotlib inline\n",
      "\n",
      "import seaborn as sns\n",
      "sns.set_context(\"talk\")\n",
      "sns.set_style(\"white\")\n"
     ],
     "language": "python",
     "metadata": {},
     "outputs": [],
     "prompt_number": 3
    },
    {
     "cell_type": "markdown",
     "metadata": {},
     "source": [
      "The following cell defines a url as a string & then reads the data from that url using the urllib library."
     ]
    },
    {
     "cell_type": "code",
     "collapsed": false,
     "input": [
      "url = 'http://www.crummy.com/software/BeautifulSoup'\n",
      "#soup = bs4.BeautifulSoup(url, 'html.parser')\n",
      "source = urllib.request.urlopen(url)\n",
      "#print(source.read())\n",
      "print(str(source))\n"
     ],
     "language": "python",
     "metadata": {},
     "outputs": [
      {
       "output_type": "stream",
       "stream": "stdout",
       "text": [
        "<http.client.HTTPResponse object at 0x10a4cdf98>\n"
       ]
      }
     ],
     "prompt_number": 4
    },
    {
     "cell_type": "markdown",
     "metadata": {},
     "source": [
      "##Quiz:\n",
      "- Is the word 'Alice' mentioned in the beautiful soup homepage?\n",
      "- How often does the word 'Soup' occur on the site?\n",
      "    - hint: use .count()\n",
      "- At what index occurs the substring 'alien video games'?\n",
      "    - hint: use .find()"
     ]
    },
    {
     "cell_type": "code",
     "collapsed": false,
     "input": [
      "# 'Alice' in source?\n",
      "string_source = str(source)\n",
      "find_Alice = re.findall(r'Alice', string_source)\n",
      "print(find_Alice) # returns empty list\n",
      "\n",
      "# count occurences of 'Soup'\n",
      "find_Soup = re.findall(r'(Soup)', string_source)\n",
      "#print(len(find_Soup))\n",
      "print(find_Soup)\n",
      "\n",
      "# find index of 'alien video games'\n",
      "find_avg = re.findall(r'(alien video games)', string_source)\n",
      "print(find_avg)"
     ],
     "language": "python",
     "metadata": {},
     "outputs": [
      {
       "output_type": "stream",
       "stream": "stdout",
       "text": [
        "[]\n",
        "[]\n",
        "[]\n"
       ]
      }
     ],
     "prompt_number": 24
    },
    {
     "cell_type": "code",
     "collapsed": false,
     "input": [
      "# Now using bs4 object\n",
      "soup = bs4.BeautifulSoup(source, 'html.parser')\n",
      "#print(soup)\n",
      "print(soup.prettify)\n",
      "\n",
      "soup.findAll('a')"
     ],
     "language": "python",
     "metadata": {},
     "outputs": [
      {
       "output_type": "stream",
       "stream": "stdout",
       "text": [
        "<bound method BeautifulSoup.prettify of >\n"
       ]
      },
      {
       "metadata": {},
       "output_type": "pyout",
       "prompt_number": 30,
       "text": [
        "[]"
       ]
      }
     ],
     "prompt_number": 30
    },
    {
     "cell_type": "markdown",
     "metadata": {},
     "source": [
      "## Read the ratings\n"
     ]
    },
    {
     "cell_type": "markdown",
     "metadata": {},
     "source": [
      "## Split-apply-combine\n",
      "- splitting the data into groups based on some criteria\n",
      "- applying a function to each group independently\n",
      "- combining the results into a data structure\n",
      "\n",
      "Find Diligent Users\n",
      "- split data per user ID\n",
      "- count ratings\n",
      "- combine result"
     ]
    },
    {
     "cell_type": "code",
     "collapsed": false,
     "input": [
      "#split data\n",
      "grouped_data = ratings.groupby('user_id')\n",
      "\n",
      "# count and combine\n",
      "ratings_per_user = grouped_data.count()\n",
      "print(ratings_per_user.head())\n",
      "\n",
      "grouped_data1 = ratings['movie_id'].groupby(ratings['user_id'])\n",
      "\n",
      "ratings_per_user1 = grouped_data1.count()\n",
      "ratings_per_user1.head()"
     ],
     "language": "python",
     "metadata": {},
     "outputs": [
      {
       "output_type": "stream",
       "stream": "stdout",
       "text": [
        "         movie_id  rating  unix_timestamp\n",
        "user_id                                  \n",
        "1             272     272             272\n",
        "2              62      62              62\n",
        "3              54      54              54\n",
        "4              24      24              24\n",
        "5             175     175             175\n"
       ]
      },
      {
       "metadata": {},
       "output_type": "pyout",
       "prompt_number": 44,
       "text": [
        "user_id\n",
        "1    272\n",
        "2     62\n",
        "3     54\n",
        "4     24\n",
        "5    175\n",
        "dtype: int64"
       ]
      }
     ],
     "prompt_number": 44
    },
    {
     "cell_type": "markdown",
     "metadata": {},
     "source": [
      "## Parting Thoughts\n",
      "\n",
      "For comparison, most of the predictions in Nate Silver's [presidental forecast](http://fivethirtyeight.blogs.nytimes.com/fivethirtyeights-2012-forecast/) had confidences of >95%. This is more precise than what we can estimate from the RCP poll alone. His approach, however, is the same basic idea (albeit he used many more polls, and carefully calibrated each based on demographic and other information). Homework 2 will dive into some of his techniques further.\n",
      "\n",
      "\n",
      "## How to submit\n",
      "\n",
      "To submit your homework, create a folder named lastname_firstinitial_hw0 and place this notebook file in the folder. If your notebook requires any additional data files to run (it shouldn't), add them to this directory as well. Compress the folder (please use .zip compression) and submit to the CS109 dropbox in the appropriate folder. If we cannot access your work because these directions are not followed correctly, we will not grade your work."
     ]
    }
   ],
   "metadata": {}
  }
 ]
}