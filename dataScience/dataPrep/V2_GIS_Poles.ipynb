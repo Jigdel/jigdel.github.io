{
 "cells": [
  {
   "cell_type": "code",
   "execution_count": 1,
   "metadata": {
    "collapsed": false
   },
   "outputs": [
    {
     "name": "stdout",
     "output_type": "stream",
     "text": [
      "   Cables:  Fuses:  Poles:  Switches:  Transformers:  UGStructures:\n",
      "0     3865     736   18961        537           3618          16883\n",
      "1       39      46      31         52             57             40\n",
      "   Cables:  Fuses:  Poles:  Switches:  Transformers:  UGStructures:\n",
      "0     3865     736   18961        537           3618          16883\n",
      "1       22      29      14         35             40             23\n"
     ]
    }
   ],
   "source": [
    "import pandas as pd\n",
    "import numpy as np\n",
    "#import re\n",
    "#import xlrd\n",
    "\n",
    "# fileName - iterate through entire folder :)\n",
    "fileName = 'Original_FiveAssetClasses.xlsx'\n",
    "#fileNameOtherDevices = 'Other Device Numbers.xls'\n",
    "#fileNamePolesClassHeight = 'Poles_class_height.xlsx' # Poles_class_height table\n",
    "\n",
    "# Read xlsx file into dataframes\n",
    "with pd.ExcelFile(fileName) as xlsx:\n",
    "    #dfTopology = pd.read_excel(xlsx, 'Topology', index_col=None, na_values=['NA']) # IGNORE for now\n",
    "    dfTransformersV1 = pd.read_excel(xlsx, 'Transformers') # 280 rows\n",
    "    dfSwitchesV1 = pd.read_excel(xlsx, 'Switches') # Tot:239 - R/Y/B: 116/108/103 values; based on phases\n",
    "    dfPolesV1 = pd.read_excel(xlsx, 'Poles') # 239 rows; 'Spot Number\\n' col contains unique tx ids\n",
    "    dfCablesV1 = pd.read_excel(xlsx, 'UGPrimaryCables')\n",
    "    dfFusesV1 = pd.read_excel(xlsx, 'Fuses') # 44 items\n",
    "    dfUGStructuresV1 = pd.read_excel(xlsx,'UGStructures')\n",
    "\n",
    "\n",
    "Summary = {'Transformers:': dfTransformersV1.shape, 'Switches:': dfSwitchesV1.shape,'Poles:': dfPolesV1.shape, \n",
    "           'Cables:': dfCablesV1.shape, 'Fuses:':dfFusesV1.shape, 'UGStructures:':dfUGStructuresV1.shape}\n",
    "dfSummary = pd.DataFrame(Summary)\n",
    "\n",
    "# Make one copy\n",
    "dfTransformersV2 = dfTransformersV1\n",
    "dfSwitchesV2 = dfSwitchesV1\n",
    "dfPolesV2 = dfPolesV1\n",
    "dfCablesV2 = dfCablesV1\n",
    "dfFusesV2 = dfFusesV1\n",
    "dfUGStructuresV2 = dfUGStructuresV1\n",
    "\n",
    "# 17 columns dropped\n",
    "dropCommonColumns = ['OBJECTID','WORKORDERID','FIELDVERIFY','COMMENTS','CREATIONUSER','DATECREATED','LASTUSER',\n",
    "                     'DATEMODIFIED','WORKREQUESTID','DESIGNID','WORKLOCATIONID','WMSID','WORKFLOWSTATUS',\n",
    "                     'WORKFUNCTION','GISONUMBER','GISOTYPENBR','OWNERSHIP']\n",
    "\n",
    "def drop_columns(dfAssetClass, dropColumns):\n",
    "    dfAssetClass = dfAssetClass.drop(dropColumns, axis=1)\n",
    "    return dfAssetClass\n",
    "\n",
    "#Drop all common columns \n",
    "dfSwitchesV2 = drop_columns(dfSwitchesV2, dropCommonColumns)\n",
    "dfTransformersV2 = drop_columns(dfTransformersV2, dropCommonColumns)\n",
    "dfFusesV2 = drop_columns(dfFusesV2,dropCommonColumns)\n",
    "dfCablesV2 = drop_column s(dfCablesV2, dropCommonColumns)\n",
    "dfUGStructuresV2 = drop_columns(dfUGStructuresV2, dropCommonColumns)\n",
    "dfPolesV2 = drop_columns(dfPolesV2, dropCommonColumns)\n",
    "\n",
    "# Make one copy\n",
    "dfTransformers = dfTransformersV2\n",
    "dfSwitches = dfSwitchesV2\n",
    "dfPoles = dfPolesV2\n",
    "dfCables = dfCablesV2\n",
    "dfFuses = dfFusesV2\n",
    "dfUGStructures = dfUGStructuresV2\n",
    "\n",
    "SummaryV2 = {'Transformers:': dfTransformers.shape, 'Switches:': dfSwitches.shape,'Poles:': dfPoles.shape, \n",
    "           'Cables:': dfCables.shape, 'Fuses:':dfFuses.shape, 'UGStructures:':dfUGStructures.shape}\n",
    "dfSummaryV2 = pd.DataFrame(SummaryV2)\n",
    "print(dfSummary)\n",
    "print(dfSummaryV2)\n",
    "# print(dfSummary-dfSummaryV2) # shows 17 cols dropped"
   ]
  },
  {
   "cell_type": "code",
   "execution_count": 19,
   "metadata": {
    "collapsed": false
   },
   "outputs": [],
   "source": [
    "# Save future wait times while running\n",
    "dfTransformers = dfTransformersV2\n",
    "dfSwitches = dfSwitchesV2\n",
    "dfPoles = dfPolesV2\n",
    "dfCables = dfCablesV2\n",
    "dfFuses = dfFusesV2\n",
    "dfUGStructures = dfUGStructuresV2\n",
    "\n",
    "#print(dfPoles.columns)"
   ]
  },
  {
   "cell_type": "code",
   "execution_count": 2,
   "metadata": {
    "collapsed": false
   },
   "outputs": [
    {
     "name": "stdout",
     "output_type": "stream",
     "text": [
      "(8826, 27)\n"
     ]
    }
   ],
   "source": [
    "# Save future wait times while running\n",
    "dfTransformers = dfTransformersV2\n",
    "dfSwitches = dfSwitchesV2\n",
    "dfPoles = dfPolesV2\n",
    "dfCables = dfCablesV2\n",
    "dfFuses = dfFusesV2\n",
    "dfUGStructures = dfUGStructuresV2\n",
    "\n",
    "#print(dfPoles.columns)\n",
    "\n",
    "def new_columns(dfAssetClass, numAssetRows, columnID):\n",
    "    dfAssetClass[columnID] = pd.DataFrame(np.empty([numAssetRows,1]).cumsum(axis=1))\n",
    "    dfAssetClass.loc[:,columnID] = np.nan\n",
    "    return dfAssetClass[columnID]\n",
    "\n",
    "# keep only distribution poles\n",
    "dfPoles = dfPoles[dfPoles.SUBTYPECD == 1] #1 - Dist(47%), 5-TrafficLights(2%), 7-streetlight(51%)\n",
    "\n",
    "dropPolesCols = ['SYMBOLROTATION','GPSDATE','SUBTYPECD','LABELTEXT','STRUCTURENUMBER','FEATURE_STATUS',\n",
    "                 'STREETLIGHT_FACILITY','REPLACED_DATE_MM_DD_YYYY','CONDITION','CONDITION_STATUS','CONDITION_DATE']\n",
    "\n",
    "# drop columns and drop rows that are not UG Switch\n",
    "dfPoles = drop_columns(dfPoles,dropPolesCols)\n",
    "# df.query('line_race != 0')\n",
    "# df = df[df.line_race != 0]\n",
    "\n",
    "# Add additional columns and fill with NaNs\n",
    "#dfPoles[''] = new_columns(dfPoles, numPolesRows,'')\n",
    "numPolesRows = len(dfPoles['DEVICENUMBER'])\n",
    "dfPoles['Asset Class'] = new_columns(dfPoles, numPolesRows,'Asset Class')\n",
    "dfPoles['Asset Subclass'] = new_columns(dfPoles, numPolesRows,'Asset Subclass')\n",
    "dfPoles['HI'] = new_columns(dfPoles, numPolesRows,'HI')\n",
    "dfPoles['PHASING'] = new_columns(dfPoles, numPolesRows,'PHASING')\n",
    "dfPoles['PRID'] = new_columns(dfPoles, numPolesRows,'PRID')\n",
    "dfPoles['TX'] = new_columns(dfPoles, numPolesRows,'TX')\n",
    "dfPoles['TX_TYPE'] = new_columns(dfPoles, numPolesRows,'TX_TYPE')\n",
    "dfPoles['CIRCUIT1'] = new_columns(dfPoles, numPolesRows,'CIRCUIT1')\n",
    "dfPoles['CIRCUIT2'] = new_columns(dfPoles, numPolesRows,'CIRCUIT2')\n",
    "dfPoles['CIRCUIT3'] = new_columns(dfPoles, numPolesRows,'CIRCUIT3')\n",
    "dfPoles['CIRCUIT4'] = new_columns(dfPoles, numPolesRows,'CIRCUIT4')\n",
    "dfPoles['CIRCUIT5'] = new_columns(dfPoles, numPolesRows,'CIRCUIT5')\n",
    "dfPoles['CIRCUIT6'] = new_columns(dfPoles, numPolesRows,'CIRCUIT6')\n",
    "dfPoles['CIRCUIT7'] = new_columns(dfPoles, numPolesRows,'CIRCUIT7')\n",
    "dfPoles['CIRCUIT8'] = new_columns(dfPoles, numPolesRows,'CIRCUIT8')\n",
    "dfPoles['IN_VALLEY'] = new_columns(dfPoles, numPolesRows,'IN_VALLEY')\n",
    "dfPoles['TX_RESIDENTIAL'] = new_columns(dfPoles, numPolesRows,'TX_RESIDENTIAL')\n",
    "dfPoles['TX_COMMERCIAL'] = new_columns(dfPoles, numPolesRows,'TX_COMMERCIAL')\n",
    "dfPoles['TX_INDUSTRIAL'] = new_columns(dfPoles, numPolesRows,'TX_INDUSTRIAL')\n",
    "dfPoles['HEIGHT'] = new_columns(dfPoles, numPolesRows,'HEIGHT')\n",
    "dfPoles['NUM_CIRCUITS'] = new_columns(dfPoles, numPolesRows,'NUM_CIRCUITS')\n",
    "dfPoles['DEVICE'] = new_columns(dfPoles, numPolesRows,'DEVICE')\n",
    "dfPoles['TX_KVA'] = new_columns(dfPoles, numPolesRows,'TX_KVA')\n",
    "dfPoles['TX_PHASING'] = new_columns(dfPoles, numPolesRows,'TX_PHASING')\n",
    "\n",
    "# Fill with values\n",
    "dfPoles['Asset Class'] = 'Pole'\n",
    "dfPoles['Asset Subclass'] = 'Wood'\n",
    "\n",
    "# Poles_class_height table\n",
    "fileNamePolesClassHeight = 'DomainCodes_PolesClassHeight.xlsx'\n",
    "# Read Other Device Numbers into dataframes\n",
    "with pd.ExcelFile(fileNamePolesClassHeight) as xls:\n",
    "    #dfTopology = pd.read_excel(xlsx, 'Topology', index_col=None, na_values=['NA']) # IGNORE for now\n",
    "    dfPolesClassHeight = pd.read_excel(xls, 'Sheet1') # 280 rows\n",
    "\n",
    "print(dfPoles.shape) # (537, 11) with all switches, (260,11) with subtype=6 ('Switch Switchgear')\n",
    "#print(dfPolesClassHeight.shape)\n",
    "#print(dfPoles.columns)\n",
    "#print(dfPoles.dtypes)\n",
    "#print(dfPolesClassHeight.dtypes)\n",
    "#print('dfSG Shape:', dfSwitchGears.shape) #(111, 3)"
   ]
  },
  {
   "cell_type": "code",
   "execution_count": 3,
   "metadata": {
    "collapsed": false
   },
   "outputs": [],
   "source": [
    "# Merge tables\n",
    "dfPoles = dfPoles.merge(dfPolesClassHeight, how='left', on='COMPATIBLEUNITID')\n",
    "\n",
    "# Rename Pole columns\n",
    "dfPoles = dfPoles.rename(columns={'DEVICENUMBER':'ID','COMPATIBLEUNITID':'Type','INSTALLATIONDATE':'INSTALL_YEAR'})\n",
    "# Separate year\n",
    "dfPoles['INSTALL_YEAR'] = dfPoles['INSTALL_YEAR'].apply(lambda x: x.year)\n",
    "#print(dfPoles.head(2))\n",
    "\n",
    "#NEED to Rearrange columns - will do when pole attachment info available\n",
    "#dfPoles=dfSwitches[['Asset Class', 'Asset Subclass', 'ID','CIRCUIT','INSTALL_YEAR','TIE_FEEDER','PHASING','IN_VALLEY','HI','TX_PHASE','PRID','Type']]\n",
    "\n",
    "MasterFile = pd.ExcelWriter('V2_GIS_Poles.xlsx')\n",
    "dfPoles.to_excel(MasterFile, 'Sheet1')\n",
    "MasterFile.save()"
   ]
  },
  {
   "cell_type": "code",
   "execution_count": null,
   "metadata": {
    "collapsed": true
   },
   "outputs": [],
   "source": [
    "\n"
   ]
  },
  {
   "cell_type": "code",
   "execution_count": 97,
   "metadata": {
    "collapsed": false
   },
   "outputs": [
    {
     "name": "stdout",
     "output_type": "stream",
     "text": [
      "     Type Loc_No                  Subclass\n",
      "0  PME-11  149-S  Air-Insulated Live Front\n",
      "1  PME-11  165-S  Air-Insulated Live Front\n",
      "2  PME-11  205-S  Air-Insulated Live Front\n",
      "3  PME-11  269-F  Air-Insulated Live Front\n"
     ]
    }
   ],
   "source": [
    "#***********************\n",
    "# pole attached assets\n",
    "#***********************\n",
    "\n",
    "fileNameOtherDevices = 'Other Device Numbers.xlsx'\n",
    "# Read Other Device Numbers into dataframes\n",
    "with pd.ExcelFile(fileNameOtherDevices) as xls:\n",
    "    #dfTopology = pd.read_excel(xlsx, 'Topology', index_col=None, na_values=['NA']) # IGNORE for now\n",
    "    dfSwitchGears = pd.read_excel(xls, 'SWITCHGEARS') # 280 rows\n",
    "\n",
    "dropSGcols = ['Switch Gear', 'Adrs #','Location','City','Notes','To Type','Inst. Date','Mftr.','Catalog#','Serial#',\n",
    "             'DOM','Comments']\n",
    "\n",
    "dfSwitchGears = drop_columns(dfSwitchGears, dropSGcols)\n",
    "#dfSwitchGears = dfSwitchGears.dropna() # drop all rows with NaN values\n",
    "\n",
    "dictSGassetSubclass = {'PMH-3':'Air-Insulated Live Front','PMH-5':'Air-Insulated Live Front',\n",
    "                       'PMH-9':'Air-Insulated Live Front','PMH-11':'Air-Insulated Live Front',\n",
    "                       'PME-9':'Air-Insulated Dead Front','PME-10':'Air-Insulated Dead Front',\n",
    "                       'PME-11':'Air-Insulated Live Front','VISTA-321':'SF6-Insulated Switch',\n",
    "                       'VISTA-422':'SF6-Insulated Switch','VISTA-431':'SF6-Insulated Switch',\n",
    "                       '422':'S&C Elec','431':'S&C Elec','321':'S&C Elec','G&W':'G&W',\n",
    "                       'NET':'Carte Elec Ltd'}\n",
    "# 'Type' -> 'PMH'\n",
    "# 'Loc_No' -> '149-S'\n",
    "dfSwitchGears['Type'] = dfSwitchGears['Type'].fillna(method='ffill')\n",
    "numSGrows = len(dfSwitchGears['Loc_No'])\n",
    "dfSwitchGears['Subclass'] = new_columns(dfSwitchGears, numSGrows, 'Subclass')\n",
    "dfSwitchGears =dfSwitchGears.astype(str)\n",
    "dfSwitchGears['Subclass'] = dfSwitchGears['Type'].apply(lambda x: dictSGassetSubclass[x])\n",
    "\n",
    "print(dfSwitchGears.head(4))"
   ]
  },
  {
   "cell_type": "code",
   "execution_count": 99,
   "metadata": {
    "collapsed": true
   },
   "outputs": [],
   "source": [
    "# Replace 'Asset Subclass' col with actual names\n",
    "dfSwitches['ID'] = dfSwitches['ID'].astype(str)\n",
    "dfSwitches=pd.merge(dfSwitches, dfSwitchGears, how='left', left_on='ID', right_on='Loc_No')\n",
    "#dfSwitches['ID'] = dfSwitchGears['Loc_No'].apply(lambda x: )\n",
    "#df.merge(df1, on='sku', how='left')\n",
    "# print(len(pd.unique(dfSwitchGears['Loc_No'].values.ravel()))) # 111\n",
    "\n",
    "switchesDropMoreCols = ['Asset Subclass', 'Loc_No']\n",
    "dfSwitches = dfSwitches.drop(switchesDropMoreCols, axis=1)\n",
    "dfSwitches = dfSwitches.rename(columns={'Subclass':'Asset Subclass'})\n",
    "#Rearrange columns\n",
    "dfSwitches=dfSwitches[['Asset Class', 'Asset Subclass', 'ID','CIRCUIT','INSTALL_YEAR','TIE_FEEDER','PHASING','IN_VALLEY','HI','TX_PHASE','PRID','Type']]\n",
    "\n",
    "MasterFile = pd.ExcelWriter('V2_GIS_Poles.xlsx')\n",
    "dfSwitches.to_excel(MasterFile, 'Sheet1')\n",
    "MasterFile.save()"
   ]
  },
  {
   "cell_type": "code",
   "execution_count": null,
   "metadata": {
    "collapsed": true
   },
   "outputs": [],
   "source": [
    "print(dfSwitches.shape)\n",
    "print('dfSG Shape:', dfSwitchGears.shape)\n",
    "print(dfSwitchGears.uniquevalues())\n",
    "# print(dfSwitches.head(5))\n",
    "# print(dfSwitchGears.head(10))"
   ]
  },
  {
   "cell_type": "code",
   "execution_count": 26,
   "metadata": {
    "collapsed": false
   },
   "outputs": [],
   "source": [
    "#SwitchGrouped = dfNodesCopy.groupby('SwitchRegion')\n",
    "#print(SwitchGrouped.head(3))"
   ]
  },
  {
   "cell_type": "code",
   "execution_count": 8,
   "metadata": {
    "collapsed": true
   },
   "outputs": [],
   "source": [
    "# ****************************\n",
    "# G. PRID to each region\n",
    "# ****************************\n",
    "# combine PRID to Tx?\n",
    "\n",
    "# ****************************\n",
    "# H. Cable \n",
    "# ****************************\n",
    "# combine cable and conductors\n",
    "\n",
    "# ****************************\n",
    "# I. Conductors  \n",
    "# ****************************\n",
    "# combine poles\n",
    "\n",
    "# ****************************\n",
    "# J. Poles \n",
    "# ****************************\n",
    "# Output excel file\n",
    "\n"
   ]
  }
 ],
 "metadata": {
  "kernelspec": {
   "display_name": "Python 3",
   "language": "python",
   "name": "python3"
  },
  "language_info": {
   "codemirror_mode": {
    "name": "ipython",
    "version": 3
   },
   "file_extension": ".py",
   "mimetype": "text/x-python",
   "name": "python",
   "nbconvert_exporter": "python",
   "pygments_lexer": "ipython3",
   "version": "3.5.0"
  }
 },
 "nbformat": 4,
 "nbformat_minor": 0
}
