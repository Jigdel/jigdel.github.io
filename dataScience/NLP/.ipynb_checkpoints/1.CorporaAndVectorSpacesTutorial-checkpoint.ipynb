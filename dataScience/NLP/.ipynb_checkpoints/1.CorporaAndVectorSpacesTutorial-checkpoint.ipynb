{
 "cells": [
  {
   "cell_type": "code",
   "execution_count": 1,
   "metadata": {
    "collapsed": true
   },
   "outputs": [],
   "source": [
    "#Set to see logging events\n",
    "import logging\n",
    "logging.basicConfig(format='%asctime)s : %(levelname)s : %(message)s', level=logging.INFO)\n"
   ]
  },
  {
   "cell_type": "code",
   "execution_count": 3,
   "metadata": {
    "collapsed": false
   },
   "outputs": [],
   "source": [
    "# documents represented as strings:\n",
    "# tiny corpus of nine documents, each consisting of only a single sentence\n",
    "from gensim import corpora, models, similarities\n",
    "\n",
    "documents = [\"Human machine interface for lab abc computer applications\",\n",
    "          \"A survey of user opinion of computer system response time\",\n",
    "          \"The EPS user interface management system\",\n",
    "          \"System and human system engineering testing of EPS\",\n",
    "          \"Relation of user perceived response time to error measurement\",\n",
    "          \"The generation of random binary unordered trees\",\n",
    "          \"The intersection graph of paths in trees\",\n",
    "          \"Graph minors IV Widths of trees and well quasi ordering\",\n",
    "          \"Graph minors A survey\"]\n"
   ]
  },
  {
   "cell_type": "code",
   "execution_count": 4,
   "metadata": {
    "collapsed": true
   },
   "outputs": [],
   "source": [
    "# tokenize the documents, remove common words (using a toy stoplist)\n",
    "\n",
    "# remove common words and tokenize\n",
    "stoplist = set('for a of the and to in'.split())\n",
    "texts = [[word for word in document.lower().split() if word not in stoplist]\n",
    "        for document in documents]\n",
    "\n",
    "# remove words that appear only once\n",
    "from collections import defaultdict\n",
    "frequency = defaultdict(int)\n",
    "for text in texts:\n",
    "    for token in text:\n",
    "        frequency[token] += 1\n",
    "        \n",
    "texts = [[token for token in text if frequency[token] > 1]\n",
    "        for text in texts]\n"
   ]
  },
  {
   "cell_type": "code",
   "execution_count": 5,
   "metadata": {
    "collapsed": false
   },
   "outputs": [
    {
     "name": "stdout",
     "output_type": "stream",
     "text": [
      "[['human', 'interface', 'computer'],\n",
      " ['survey', 'user', 'computer', 'system', 'response', 'time'],\n",
      " ['eps', 'user', 'interface', 'system'],\n",
      " ['system', 'human', 'system', 'eps'],\n",
      " ['user', 'response', 'time'],\n",
      " ['trees'],\n",
      " ['graph', 'trees'],\n",
      " ['graph', 'minors', 'trees'],\n",
      " ['graph', 'minors', 'survey']]\n"
     ]
    }
   ],
   "source": [
    "from pprint import pprint # pretty-printer\n",
    "pprint(texts)"
   ]
  },
  {
   "cell_type": "code",
   "execution_count": 23,
   "metadata": {
    "collapsed": false
   },
   "outputs": [
    {
     "name": "stdout",
     "output_type": "stream",
     "text": [
      "Dictionary(12 unique tokens: ['response', 'computer', 'human', 'graph', 'time']...)\n"
     ]
    }
   ],
   "source": [
    "# to convert documents to vectors, we'll use document representation called bag-of-words\n",
    "# http://en.wikipedia.org/wiki/Bag_of_words\n",
    "\n",
    "dictionary = corpora.Dictionary(texts)\n",
    "dictionary.save('tmp/deerwester.dict') # original LSA article\n",
    "print(dictionary)\n",
    "\n",
    "# We assigned a unique integer id to all words appearing in the corpus with gensim.corpora.dictionary\n",
    "# http://radimrehurek.com/gensim/corpora/dictionary.html#gensim.corpora.dictionary.Dictionary"
   ]
  },
  {
   "cell_type": "code",
   "execution_count": 24,
   "metadata": {
    "collapsed": false
   },
   "outputs": [
    {
     "name": "stdout",
     "output_type": "stream",
     "text": [
      "{'computer': 0,\n",
      " 'eps': 8,\n",
      " 'graph': 10,\n",
      " 'human': 1,\n",
      " 'interface': 2,\n",
      " 'minors': 11,\n",
      " 'response': 3,\n",
      " 'survey': 4,\n",
      " 'system': 6,\n",
      " 'time': 5,\n",
      " 'trees': 9,\n",
      " 'user': 7}\n"
     ]
    }
   ],
   "source": [
    "pprint(dictionary.token2id)"
   ]
  },
  {
   "cell_type": "code",
   "execution_count": 8,
   "metadata": {
    "collapsed": false
   },
   "outputs": [
    {
     "name": "stdout",
     "output_type": "stream",
     "text": [
      "[(0, 1), (1, 1)]\n"
     ]
    }
   ],
   "source": [
    "# convert tokenized documents to vectors\n",
    "new_doc = \"Human computer interaction\"\n",
    "new_vec = dictionary.doc2bow(new_doc.lower().split())\n",
    "print(new_vec) # the word \"interaction\" does not appear in the dict. and is ignored\n",
    "\n",
    "# function doc2bow() simply counts the # of occurences of each distinct word,\n",
    "# converts the word to its integer word & returns the result as a sparse vector.\n",
    "# The sparse vector [(0, 1), (1, 1)] therefore reads: in the document “Human computer\n",
    "# interaction”, the words computer (id 0) and human (id 1) appear once; the other ten \n",
    "# dictionary words appear (implicitly) zero times."
   ]
  },
  {
   "cell_type": "code",
   "execution_count": 19,
   "metadata": {
    "collapsed": false
   },
   "outputs": [
    {
     "name": "stdout",
     "output_type": "stream",
     "text": [
      "[(1, 1), (9, 1)]\n"
     ]
    }
   ],
   "source": [
    "new_doc2 = \"trees human life\"\n",
    "new_vec2 = dictionary.doc2bow(new_doc2.lower().split())\n",
    "print(new_vec2)"
   ]
  },
  {
   "cell_type": "code",
   "execution_count": 21,
   "metadata": {
    "collapsed": false
   },
   "outputs": [
    {
     "name": "stdout",
     "output_type": "stream",
     "text": [
      "[[(0, 1), (1, 1), (2, 1)],\n",
      " [(0, 1), (3, 1), (4, 1), (5, 1), (6, 1), (7, 1)],\n",
      " [(2, 1), (6, 1), (7, 1), (8, 1)],\n",
      " [(1, 1), (6, 2), (8, 1)],\n",
      " [(3, 1), (5, 1), (7, 1)],\n",
      " [(9, 1)],\n",
      " [(9, 1), (10, 1)],\n",
      " [(9, 1), (10, 1), (11, 1)],\n",
      " [(4, 1), (10, 1), (11, 1)]]\n"
     ]
    }
   ],
   "source": [
    "corpus = [dictionary.doc2bow(text) for text in texts]\n",
    "corpora.MmCorpus.serialize('tmp/deerwester.mm', corpus) # store to disk, for later use\n",
    "pprint(corpus)\n",
    "\n",
    "# vector feature with id=10, stands for the question, “How many times does the word \n",
    "# graph appear in the document?” and that the answer is “zero” for the first six \n",
    "# documents and “one” for the remaining three. "
   ]
  },
  {
   "cell_type": "code",
   "execution_count": 34,
   "metadata": {
    "collapsed": false
   },
   "outputs": [
    {
     "name": "stdout",
     "output_type": "stream",
     "text": [
      "<__main__.MyCorpus object at 0x000002BF841C6278>\n"
     ]
    }
   ],
   "source": [
    "# Corpus streaming - one document at a time\n",
    "\n",
    "class MyCorpus(object):\n",
    "    def __iter__(self):\n",
    "        for line in open('tmp/mycorpus.txt'):\n",
    "            # assume there's one document per line, tokens separated by whitespace\n",
    "            yield dictionary.doc2bow(line.lower().split())\n",
    "\n",
    "corpus_memory_friendly = MyCorpus() # doesn't load corpus into memory\n",
    "print(corpus_memory_friendly)"
   ]
  },
  {
   "cell_type": "code",
   "execution_count": 35,
   "metadata": {
    "collapsed": false
   },
   "outputs": [
    {
     "name": "stdout",
     "output_type": "stream",
     "text": [
      "[(0, 1), (1, 1), (2, 1)]\n",
      "[(0, 1), (3, 1), (4, 1), (5, 1), (6, 1), (7, 1)]\n",
      "[(2, 1), (6, 1), (7, 1), (8, 1)]\n",
      "[(1, 1), (6, 2), (8, 1)]\n",
      "[(3, 1), (5, 1), (7, 1)]\n",
      "[(9, 1)]\n",
      "[(9, 1), (10, 1)]\n",
      "[(9, 1), (10, 1), (11, 1)]\n",
      "[(4, 1), (10, 1), (11, 1)]\n"
     ]
    }
   ],
   "source": [
    "# corpus now an object, prints just object in memory\n",
    "# let's iterate over the corpus & print each document vector (one at a time)\n",
    "\n",
    "for vector in corpus_memory_friendly:\n",
    "    print(vector)\n",
    "    \n",
    "# although output the same, corpus is much more memory friendly\n",
    "# as at most, one vector resides in RAM at a time"
   ]
  },
  {
   "cell_type": "code",
   "execution_count": null,
   "metadata": {
    "collapsed": true
   },
   "outputs": [],
   "source": [
    "# similarly to construct a dictionary w/o loading all texts into memory\n",
    "# collect statistics about all tokens\n",
    "dictionary = corpora.Dictionary(line.lower().split)"
   ]
  }
 ],
 "metadata": {
  "kernelspec": {
   "display_name": "Python 3",
   "language": "python",
   "name": "python3"
  },
  "language_info": {
   "codemirror_mode": {
    "name": "ipython",
    "version": 3
   },
   "file_extension": ".py",
   "mimetype": "text/x-python",
   "name": "python",
   "nbconvert_exporter": "python",
   "pygments_lexer": "ipython3",
   "version": "3.5.1"
  }
 },
 "nbformat": 4,
 "nbformat_minor": 0
}
