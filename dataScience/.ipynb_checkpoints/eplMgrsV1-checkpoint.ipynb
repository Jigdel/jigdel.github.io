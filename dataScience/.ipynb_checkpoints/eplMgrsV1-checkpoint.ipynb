{
 "metadata": {
  "name": "",
  "signature": "sha256:076d10b46897f2cb6cb03d92eee3de3562dbf22385de58ecb966b142bff9514f"
 },
 "nbformat": 3,
 "nbformat_minor": 0,
 "worksheets": [
  {
   "cells": [
    {
     "cell_type": "code",
     "collapsed": false,
     "input": [
      "import pandas as pd\n",
      "import numpy as np\n",
      "import seaborn as sns\n",
      "import datetime\n",
      "\n",
      "%matplotlib inline\n",
      "\n",
      "file_name = 'eplMgr.xlsx'\n",
      "\n",
      "with pd.ExcelFile(file_name) as xlsx:\n",
      "    dfEplMgrs = pd.read_excel(xlsx,'Sheet1')\n",
      "\n",
      "#dfEplMgrs['Year'] = dfEplMgrs['Appointed'].apply(lambda x: x.year)\n",
      "#i = datetime.datetime.now()\n",
      "\n",
      "# print (\"dd/mm/yyyy format =  %s-%s-%s\" % (i.year, i.month, i.day))\n",
      "fmt = \"%Y-%m-%d\"\n",
      "dfEplMgrs['Today_date'] = (datetime.date.today()).strftime(fmt)\n",
      "\n",
      "#d.strftime(f)\n",
      "#dfEplMgrs['Today_date'] = dfEplMgrs['Today_date'].astype(datetime)\n",
      "#dfEplMgrs['Appointed'] = dfEplMgrs['Appointed'].apply(lambda x: x.isoformat())\n",
      "#dfEplMgrs['Days'] = dfEplMgrs['Appointed'].apply(lambda x: (x-i.isoformat()).days)\n",
      "\n",
      "#dfEplMgrs['Days'] = dfEplMgrs['Appointed'].apply(lambda x: (x-datetime.date.today()).days)\n",
      "\n",
      "print(dfEplMgrs.dtypes)\n",
      "dfEplMgrs.head()"
     ],
     "language": "python",
     "metadata": {},
     "outputs": [
      {
       "output_type": "stream",
       "stream": "stdout",
       "text": [
        "Club                     object\n",
        "Appointed        datetime64[ns]\n",
        "Manager                  object\n",
        "Predecessor              object\n",
        "Manager_x                object\n",
        "Appointed_x      datetime64[ns]\n",
        "Predecessor_x            object\n",
        "Today_date               object\n",
        "dtype: object\n"
       ]
      },
      {
       "html": [
        "<div style=\"max-width:1500px;overflow:auto;\">\n",
        "<table border=\"1\" class=\"dataframe\">\n",
        "  <thead>\n",
        "    <tr style=\"text-align: right;\">\n",
        "      <th></th>\n",
        "      <th>Club</th>\n",
        "      <th>Appointed</th>\n",
        "      <th>Manager</th>\n",
        "      <th>Predecessor</th>\n",
        "      <th>Manager_x</th>\n",
        "      <th>Appointed_x</th>\n",
        "      <th>Predecessor_x</th>\n",
        "      <th>Today_date</th>\n",
        "    </tr>\n",
        "  </thead>\n",
        "  <tbody>\n",
        "    <tr>\n",
        "      <th>0</th>\n",
        "      <td>Arsenal</td>\n",
        "      <td>1996-09-30</td>\n",
        "      <td>Arsene Wenger</td>\n",
        "      <td>Bruce Rioch</td>\n",
        "      <td>Arsene Wenger</td>\n",
        "      <td>1996-09-30</td>\n",
        "      <td>Bruce Rioch</td>\n",
        "      <td>2015-12-27</td>\n",
        "    </tr>\n",
        "    <tr>\n",
        "      <th>1</th>\n",
        "      <td>Aston Villa</td>\n",
        "      <td>2015-11-02</td>\n",
        "      <td>Remi Garde</td>\n",
        "      <td>Tim Sherwood</td>\n",
        "      <td>Remi Garde</td>\n",
        "      <td>2015-11-02</td>\n",
        "      <td>Tim Sherwood</td>\n",
        "      <td>2015-12-27</td>\n",
        "    </tr>\n",
        "    <tr>\n",
        "      <th>2</th>\n",
        "      <td>Bournemouth</td>\n",
        "      <td>2012-10-12</td>\n",
        "      <td>Eddie Howe</td>\n",
        "      <td>Paul Groves</td>\n",
        "      <td>Eddie Howe</td>\n",
        "      <td>2012-10-12</td>\n",
        "      <td>Paul Groves</td>\n",
        "      <td>2015-12-27</td>\n",
        "    </tr>\n",
        "    <tr>\n",
        "      <th>3</th>\n",
        "      <td>Chelsea</td>\n",
        "      <td>2015-12-17</td>\n",
        "      <td>Gus Hiddink</td>\n",
        "      <td>Jose Mourinho</td>\n",
        "      <td>Jose Mourinho</td>\n",
        "      <td>2013-06-03</td>\n",
        "      <td>Rafael Benitez</td>\n",
        "      <td>2015-12-27</td>\n",
        "    </tr>\n",
        "    <tr>\n",
        "      <th>4</th>\n",
        "      <td>Crystal Palace</td>\n",
        "      <td>2015-01-03</td>\n",
        "      <td>Alan Pardew</td>\n",
        "      <td>Neil Warnock</td>\n",
        "      <td>Alan Pardew</td>\n",
        "      <td>2015-01-03</td>\n",
        "      <td>Neil Warnock</td>\n",
        "      <td>2015-12-27</td>\n",
        "    </tr>\n",
        "  </tbody>\n",
        "</table>\n",
        "</div>"
       ],
       "metadata": {},
       "output_type": "pyout",
       "prompt_number": 2,
       "text": [
        "             Club  Appointed        Manager    Predecessor      Manager_x  \\\n",
        "0         Arsenal 1996-09-30  Arsene Wenger    Bruce Rioch  Arsene Wenger   \n",
        "1     Aston Villa 2015-11-02     Remi Garde   Tim Sherwood     Remi Garde   \n",
        "2     Bournemouth 2012-10-12     Eddie Howe    Paul Groves     Eddie Howe   \n",
        "3         Chelsea 2015-12-17    Gus Hiddink  Jose Mourinho  Jose Mourinho   \n",
        "4  Crystal Palace 2015-01-03    Alan Pardew   Neil Warnock    Alan Pardew   \n",
        "\n",
        "  Appointed_x   Predecessor_x  Today_date  \n",
        "0  1996-09-30     Bruce Rioch  2015-12-27  \n",
        "1  2015-11-02    Tim Sherwood  2015-12-27  \n",
        "2  2012-10-12     Paul Groves  2015-12-27  \n",
        "3  2013-06-03  Rafael Benitez  2015-12-27  \n",
        "4  2015-01-03    Neil Warnock  2015-12-27  "
       ]
      }
     ],
     "prompt_number": 2
    },
    {
     "cell_type": "code",
     "collapsed": false,
     "input": [
      "#print(datetime.today())\n",
      "#dfEplMgrs['Year'].plot(kind='bar')\n",
      "#ax = sns.tsplot(data=dfEplMgrs['Year'])\n",
      "\n",
      "i = datetime.datetime.now()\n",
      "print (\"dd/mm/yyyy format =  %s-%s-%s\" % (i.year, i.month, i.day))"
     ],
     "language": "python",
     "metadata": {},
     "outputs": [
      {
       "output_type": "stream",
       "stream": "stdout",
       "text": [
        "dd/mm/yyyy format =  2015-12-27\n"
       ]
      }
     ],
     "prompt_number": 4
    },
    {
     "cell_type": "code",
     "collapsed": false,
     "input": [
      "import matplotlib.pyplot as plt\n",
      "\n",
      "# ind = np.arange(len(dfEplMgrs))\n",
      "# width = 0.4\n",
      "\n",
      "# fig, ax = plt.subplots()\n",
      "# ax.barh(ind, dfEplMgrs.n, width, color='red', label='N')\n",
      "# ax.barh(ind + width, df.m, width, color='green', label='M')\n",
      "\n",
      "# ax.set(yticks=ind + width, yticklabels=df.graph, ylim=[2*width - 1, len(df)])\n",
      "# ax.legend()\n",
      "\n",
      "# ax = plt.subplot(111)\n",
      "# ax.bar(x, y, width=10)\n",
      "# ax.xaxis_date()\n",
      "\n",
      "plt.plot_date(dfEplMgrs['Appointed'], np.arange(0,len(dfEplMgrs['Club'])), \n",
      "              fmt='bo', tz=None, xdate=True,ydate=False, label=dfEplMgrs['Club'])\n",
      "plt.show()"
     ],
     "language": "python",
     "metadata": {},
     "outputs": [
      {
       "metadata": {},
       "output_type": "display_data",
       "png": "[encoded data removed]",
       "text": [
        "<matplotlib.figure.Figure at 0x10a3444a8>"
       ]
      }
     ],
     "prompt_number": 8
    },
    {
     "cell_type": "code",
     "collapsed": false,
     "input": [],
     "language": "python",
     "metadata": {},
     "outputs": []
    },
    {
     "cell_type": "code",
     "collapsed": false,
     "input": [
      "import matplotlib.pyplot as plt\n",
      "plt.rcdefaults()\n",
      "\n",
      "\n",
      "# Example data\n",
      "club = dfEplMgrs['Club']\n",
      "y_pos = np.arange(len(club))\n",
      "term = dfEplMgrs['Appointed']\n",
      "# term = 3 + 10 * np.random.rand(len(people))\n",
      "# error = np.random.rand(len(people))\n",
      "\n",
      "# plt.barh(y_pos, term, align='center', alpha=0.4)\n",
      "# plt.yticks(y_pos, club)\n",
      "# plt.xlabel('Performance')\n",
      "# plt.title('How fast do you want to go today?')\n",
      "\n",
      "# plt.show()"
     ],
     "language": "python",
     "metadata": {},
     "outputs": [],
     "prompt_number": 50
    },
    {
     "cell_type": "code",
     "collapsed": false,
     "input": [],
     "language": "python",
     "metadata": {},
     "outputs": []
    }
   ],
   "metadata": {}
  }
 ]
}